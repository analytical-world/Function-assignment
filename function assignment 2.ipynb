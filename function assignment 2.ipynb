{
 "cells": [
  {
   "cell_type": "raw",
   "id": "d38120f4-28a7-410d-b1e4-e9674fccc704",
   "metadata": {},
   "source": [
    "Q1. Which keyword is used to create a function? Create a function to return a list of odd numbers in the\n",
    "range of 1 to 25."
   ]
  },
  {
   "cell_type": "raw",
   "id": "053d5fc0-4dc2-4825-a03a-ca07120763fa",
   "metadata": {},
   "source": [
    "Sol:\n",
    "    \"def\" keyword is used to create function.\n",
    "    "
   ]
  },
  {
   "cell_type": "code",
   "execution_count": 35,
   "id": "be3a349e-8763-4b98-8aec-9bbe5d4ad568",
   "metadata": {},
   "outputs": [],
   "source": [
    "def func1():\n",
    "    b = []\n",
    "    for i in range(1,26):\n",
    "        if i % 2 != 0:\n",
    "            b.append(i)\n",
    "    return b\n",
    "            \n",
    "             \n",
    "        \n",
    "        "
   ]
  },
  {
   "cell_type": "code",
   "execution_count": 36,
   "id": "d37034a5-205f-4573-a22b-9ca4a9a3ec00",
   "metadata": {},
   "outputs": [
    {
     "data": {
      "text/plain": [
       "[1, 3, 5, 7, 9, 11, 13, 15, 17, 19, 21, 23, 25]"
      ]
     },
     "execution_count": 36,
     "metadata": {},
     "output_type": "execute_result"
    }
   ],
   "source": [
    "func1()\n"
   ]
  },
  {
   "cell_type": "raw",
   "id": "47ccec93-a1f6-425a-9daa-8159f7a3b48f",
   "metadata": {},
   "source": [
    "Q2. Why *args and **kwargs is used in some functions? Create a function each for *args and **kwargs to\n",
    "demonstrate their use."
   ]
  },
  {
   "cell_type": "raw",
   "id": "1b9a5c3c-475e-48fd-8895-a983ea1d0d82",
   "metadata": {},
   "source": [
    "Sol 2: We use *args and **kwargs as arguments of a function when we are unsure about the number of arguments to pass in the functions, whereas *args is used for non keyword argument and **kwarg is used for keyword argument. "
   ]
  },
  {
   "cell_type": "code",
   "execution_count": 6,
   "id": "d935e37b-384a-4cdf-9acb-10ad6d2a4ea8",
   "metadata": {},
   "outputs": [],
   "source": [
    "##example of args\n",
    "def add(*num):\n",
    "    sum = 0\n",
    "    \n",
    "    for n in num:\n",
    "        sum = sum + n\n",
    "\n",
    "    print(\"Sum:\",sum)\n",
    "    "
   ]
  },
  {
   "cell_type": "code",
   "execution_count": 7,
   "id": "70d3b749-ce10-4340-8f0f-dfef0811e99a",
   "metadata": {},
   "outputs": [
    {
     "name": "stdout",
     "output_type": "stream",
     "text": [
      "Sum: 20\n"
     ]
    }
   ],
   "source": [
    "add(5,7,8)"
   ]
  },
  {
   "cell_type": "code",
   "execution_count": 8,
   "id": "144725d8-34c6-490c-914e-de73a8f0df19",
   "metadata": {},
   "outputs": [],
   "source": [
    "##example of kwargs\n",
    "def test5(**kwargs):\n",
    "    return kwargs"
   ]
  },
  {
   "cell_type": "code",
   "execution_count": 18,
   "id": "94c009d4-8f67-4a88-8d40-b71e0aa20c13",
   "metadata": {},
   "outputs": [
    {
     "data": {
      "text/plain": [
       "{'a': 'ajay', 'b': 9, 'c': 53, 'd': [5, 68]}"
      ]
     },
     "execution_count": 18,
     "metadata": {},
     "output_type": "execute_result"
    }
   ],
   "source": [
    "test5(a = \"ajay\", b = 9, c = 53, d = [5, 68])"
   ]
  },
  {
   "cell_type": "raw",
   "id": "8ee7378c-4d28-45ce-bb72-5ec251b70e96",
   "metadata": {},
   "source": [
    "Q3: What is an iterator in python? Name the method used to initialise the iterator object and the method\n",
    "used for iteration. Use these methods to print the first five elements of the given list [2, 4, 6, 8, 10, 12, 14, 16,\n",
    "18, 20]."
   ]
  },
  {
   "cell_type": "raw",
   "id": "7baaf977-59f7-4d51-a0ec-242188dbca73",
   "metadata": {},
   "source": [
    "Sol: An iterator is an object that allows you to iterate over collections of data, such as lists, tuples, dictionaries, and sets. Iter() method is used to initialize the iterator object so that the instance of this object can be used for iterating.\n"
   ]
  },
  {
   "cell_type": "code",
   "execution_count": 7,
   "id": "b31bb528-6aa3-46c1-985b-2bcbcc0ee6ab",
   "metadata": {},
   "outputs": [
    {
     "name": "stdout",
     "output_type": "stream",
     "text": [
      "2\n",
      "4\n",
      "6\n",
      "8\n",
      "10\n"
     ]
    }
   ],
   "source": [
    "lst = [2, 4, 6, 8, 10, 12, 14, 16,18,20]\n",
    "iter1 = iter(lst)\n",
    "print(next(iter1))\n",
    "print(next(iter1))\n",
    "print(next(iter1))\n",
    "print(next(iter1))\n",
    "print(next(iter1))\n"
   ]
  },
  {
   "cell_type": "raw",
   "id": "55b0de0f-cc6a-4c55-89b7-8f4161ba721f",
   "metadata": {},
   "source": [
    "Q4:Write a python program using reduce function to compute the product of a list containing numbers\n",
    "from 1 to 25."
   ]
  },
  {
   "cell_type": "code",
   "execution_count": 8,
   "id": "5af2b3ee-8b25-463a-8001-61edb3e13b9e",
   "metadata": {},
   "outputs": [],
   "source": [
    "from functools import reduce"
   ]
  },
  {
   "cell_type": "code",
   "execution_count": 11,
   "id": "e51e2c17-57cc-42d3-aef9-fb3c46b83318",
   "metadata": {},
   "outputs": [
    {
     "data": {
      "text/plain": [
       "15511210043330985984000000"
      ]
     },
     "execution_count": 11,
     "metadata": {},
     "output_type": "execute_result"
    }
   ],
   "source": [
    "lst1 = [1,2,3,4,5,6,7,8,9,10,11,12,13,14,15,16,17,18,19,20,21,22,23,24,25]\n",
    "reduce(lambda x, y : x * y , lst1)"
   ]
  },
  {
   "cell_type": "raw",
   "id": "73da8c6b-e6b8-4d25-872a-9274474e9246",
   "metadata": {},
   "source": [
    "Q5. Write a python program to filter the numbers in a given list that are divisible by 2 and 3 using the\n",
    "filter function.\n"
   ]
  },
  {
   "cell_type": "code",
   "execution_count": 13,
   "id": "ecd7119b-e732-4716-acee-054bef25174e",
   "metadata": {},
   "outputs": [
    {
     "data": {
      "text/plain": [
       "[2, 3, 6, 9, 27, 60, 90, 120, 46]"
      ]
     },
     "execution_count": 13,
     "metadata": {},
     "output_type": "execute_result"
    }
   ],
   "source": [
    "lst2 = [2, 3, 6, 9, 27, 60, 90, 120, 55, 46]\n",
    "list(filter(lambda x: x %2 ==0 or x %3 == 0, lst2))"
   ]
  },
  {
   "cell_type": "raw",
   "id": "92715b07-846f-4765-870b-df9a2f084f88",
   "metadata": {},
   "source": [
    "Q6. Write a python program to find palindromes in the given list of strings using lambda and filter\n",
    "function."
   ]
  },
  {
   "cell_type": "code",
   "execution_count": 5,
   "id": "6583d47e-d8cf-4f3b-8358-c4307b2908af",
   "metadata": {},
   "outputs": [
    {
     "name": "stdout",
     "output_type": "stream",
     "text": [
      "['php', 'aba', 'radar', 'level']\n"
     ]
    }
   ],
   "source": [
    "lst = ['python', 'php', 'aba', 'radar', 'level']\n",
    "result = list(filter(lambda x: (x == ''.join(reversed(x))), lst))\n",
    "print(result)\n"
   ]
  },
  {
   "cell_type": "code",
   "execution_count": null,
   "id": "4d694114-fe55-4333-a92b-d2c5b9881780",
   "metadata": {},
   "outputs": [],
   "source": []
  },
  {
   "cell_type": "code",
   "execution_count": null,
   "id": "75d31152-6ae2-41c5-8e0c-fbd2dc003199",
   "metadata": {},
   "outputs": [],
   "source": []
  }
 ],
 "metadata": {
  "kernelspec": {
   "display_name": "Python 3 (ipykernel)",
   "language": "python",
   "name": "python3"
  },
  "language_info": {
   "codemirror_mode": {
    "name": "ipython",
    "version": 3
   },
   "file_extension": ".py",
   "mimetype": "text/x-python",
   "name": "python",
   "nbconvert_exporter": "python",
   "pygments_lexer": "ipython3",
   "version": "3.10.8"
  }
 },
 "nbformat": 4,
 "nbformat_minor": 5
}
